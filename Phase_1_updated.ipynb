{
    "metadata": {
        "kernelspec": {
            "name": "SQL",
            "display_name": "SQL",
            "language": "sql"
        },
        "language_info": {
            "name": "sql",
            "version": ""
        }
    },
    "nbformat_minor": 2,
    "nbformat": 4,
    "cells": [
        {
            "cell_type": "markdown",
            "source": [
                "## Entities"
            ],
            "metadata": {
                "azdata_cell_guid": "88d6f024-364b-4cec-a45d-895df0e628b4"
            },
            "attachments": {}
        },
        {
            "cell_type": "markdown",
            "source": [
                "We identified six basic entities in our schema:\n",
                "\n",
                "1\\. Hospital\n",
                "\n",
                "2\\. Location\n",
                "\n",
                "3\\. Hospital Quality\n",
                "\n",
                "4\\. Weekly Report\n",
                "\n",
                "5\\. Bed Report\n",
                "\n",
                "6\\. Covid Report\n",
                "\n",
                "We chose these entities to effectively separate information like hospital details and location from weekly reports and quality ratings. This approach reduces redundancy by making sure that each piece of information is stored only once."
            ],
            "metadata": {
                "azdata_cell_guid": "6c8be853-8102-440b-bc3f-f0442bf58a6a"
            },
            "attachments": {}
        },
        {
            "cell_type": "markdown",
            "source": [
                "## 1\\. Hospital"
            ],
            "metadata": {
                "azdata_cell_guid": "61d31ea5-ab04-470d-9c69-a63de462c0a9"
            },
            "attachments": {}
        },
        {
            "cell_type": "markdown",
            "source": [
                "Table for hospital information:\n",
                "\n",
                "<span style=\"color: var(--vscode-foreground);\">This table represents the 'Hospital' entity and stores information about each hospital.&nbsp;</span> <span style=\"color: var(--vscode-foreground);\">We use 'hospital_pk' as the primary key to uniquely identify each hospital.&nbsp;</span> <span style=\"color: var(--vscode-foreground);\">The 'location_id' is a foreign key referencing the 'location' table, linking each hospital to its location.</span>"
            ],
            "metadata": {
                "azdata_cell_guid": "469d7792-aace-476b-b63e-e9f4ae2bf322"
            },
            "attachments": {}
        },
        {
            "cell_type": "code",
            "source": [
                "CREATE TABLE hospital (\n",
                "    hospital_pk TEXT PRIMARY KEY,\n",
                "    hospital_name TEXT NOT NULL,\n",
                "    location_id INTEGER REFERENCES location(id) ON DELETE SET NULL,\n",
                "    type_of_hospital TEXT,\n",
                "    ownership TEXT,\n",
                "    provides_emergency_services BOOLEAN\n",
                ");"
            ],
            "metadata": {
                "azdata_cell_guid": "77516cd0-bb86-48ae-9144-6e134f013b67",
                "language": "sql"
            },
            "outputs": [
                {
                    "output_type": "display_data",
                    "data": {
                        "text/html": "CREATE TABLE"
                    },
                    "metadata": {}
                },
                {
                    "output_type": "display_data",
                    "data": {
                        "text/html": "Total execution time: 00:00:00.029"
                    },
                    "metadata": {}
                }
            ],
            "execution_count": 23
        },
        {
            "cell_type": "markdown",
            "source": [
                "## 2\\. Location"
            ],
            "metadata": {
                "azdata_cell_guid": "7fae0b3d-9bd6-47dc-b775-64806f46e0fe"
            },
            "attachments": {}
        },
        {
            "cell_type": "markdown",
            "source": [
                "Table to store unique location information:\n",
                "\n",
                " The 'Location' entity stores unique geographical information to avoid redundancy when multiple hospitals <span style=\"color: var(--vscode-foreground);\">share the same location details, which helps to minimize duplication.</span>"
            ],
            "metadata": {
                "azdata_cell_guid": "c3b5173d-1e58-4a4a-9c66-fb054f2d8642"
            },
            "attachments": {}
        },
        {
            "cell_type": "code",
            "source": [
                "CREATE TABLE location (\n",
                "    id SERIAL PRIMARY KEY,\n",
                "    city TEXT,\n",
                "    state CHAR(2) NOT NULL,\n",
                "    zip_code CHAR(5),\n",
                "    latitude NUMERIC(9, 6),\n",
                "    longitude NUMERIC(9, 6),\n",
                "    fips_code VARCHAR(10)\n",
                ");"
            ],
            "metadata": {
                "azdata_cell_guid": "f77296f1-b507-4dc6-9a53-fa44802d7fec",
                "language": "sql"
            },
            "outputs": [
                {
                    "output_type": "display_data",
                    "data": {
                        "text/html": "CREATE TABLE"
                    },
                    "metadata": {}
                },
                {
                    "output_type": "display_data",
                    "data": {
                        "text/html": "Total execution time: 00:00:00.024"
                    },
                    "metadata": {}
                }
            ],
            "execution_count": 22
        },
        {
            "cell_type": "markdown",
            "source": [
                "## 3\\. Hospital Quality"
            ],
            "metadata": {
                "azdata_cell_guid": "5b7563d9-7793-4db2-98cf-820435cb27ae"
            },
            "attachments": {}
        },
        {
            "cell_type": "markdown",
            "source": [
                "Table to store the quality ratings of each hospital:\n",
                "\n",
                "<span style=\"color: var(--vscode-foreground);\">This table keeps track of quality ratings for each hospital over time, where</span> <span style=\"color: var(--vscode-foreground);\">'facility_id' links back to the 'hospital' table.&nbsp;</span>   <span style=\"color: var(--vscode-foreground);\">We can see how a hospital's rating changes by date through this table.</span>"
            ],
            "metadata": {
                "azdata_cell_guid": "e9bd6c58-6ee6-4f02-9031-4f0c0f10b33c"
            },
            "attachments": {}
        },
        {
            "cell_type": "code",
            "source": [
                "CREATE TABLE hospital_quality (\n",
                "    id SERIAL PRIMARY KEY,\n",
                "    facility_id TEXT REFERENCES hospital(hospital_pk) ON DELETE CASCADE,\n",
                "    quality_rating INTEGER CHECK (quality_rating BETWEEN 1 AND 10), \n",
                "    rating_date DATE NOT NULL                                   \n",
                ");"
            ],
            "metadata": {
                "azdata_cell_guid": "f14e45d0-dafb-485e-b370-2766ba793319",
                "language": "sql"
            },
            "outputs": [
                {
                    "output_type": "display_data",
                    "data": {
                        "text/html": "CREATE TABLE"
                    },
                    "metadata": {}
                },
                {
                    "output_type": "display_data",
                    "data": {
                        "text/html": "Total execution time: 00:00:00.035"
                    },
                    "metadata": {}
                }
            ],
            "execution_count": 24
        },
        {
            "cell_type": "markdown",
            "source": [
                "## 4\\. Weekly Report"
            ],
            "metadata": {
                "azdata_cell_guid": "2c598435-8d34-42ac-bbfa-8cc1359d9b0c"
            },
            "attachments": {}
        },
        {
            "cell_type": "markdown",
            "source": [
                "Table to store weekly data reports for each hospital:\n",
                "\n",
                "This table stores weekly report dates for each hospital, where 'hospital\\_weekly\\_id' links to the 'hospital' table. We ensure there's only one report per hospital each week."
            ],
            "metadata": {
                "azdata_cell_guid": "7a8565bb-dca4-44be-b8a1-b99dbee12483"
            },
            "attachments": {}
        },
        {
            "cell_type": "code",
            "source": [
                "CREATE TABLE weekly_report (\n",
                "    id SERIAL PRIMARY KEY,\n",
                "    hospital_weekly_id TEXT REFERENCES hospital(hospital_pk) ON DELETE CASCADE,\n",
                "    collection_week DATE NOT NULL,                                -- Week of data collection\n",
                "    UNIQUE(hospital_weekly_id, collection_week)                   -- Ensure one entry per hospital per week\n",
                ");"
            ],
            "metadata": {
                "azdata_cell_guid": "144c13b8-4d82-4347-bfcd-b15bc67ec8cc",
                "language": "sql"
            },
            "outputs": [
                {
                    "output_type": "display_data",
                    "data": {
                        "text/html": "CREATE TABLE"
                    },
                    "metadata": {}
                },
                {
                    "output_type": "display_data",
                    "data": {
                        "text/html": "Total execution time: 00:00:00.033"
                    },
                    "metadata": {}
                }
            ],
            "execution_count": 25
        },
        {
            "cell_type": "markdown",
            "source": [
                "## 5\\. Bed Report"
            ],
            "metadata": {
                "azdata_cell_guid": "42c314eb-559a-4c7a-ad5f-77fd9ac8fd6d"
            },
            "attachments": {}
        },
        {
            "cell_type": "markdown",
            "source": [
                "Table to store bed-related information:\n",
                "\n",
                "<span style=\"color: var(--vscode-foreground);\">This table holds data about bed usage for each weekly report.</span> <span style=\"color: var(--vscode-foreground);\">It includes the type of bed and averages of beds available and occupied, where</span> <span style=\"color: var(--vscode-foreground);\">'weekly_bed_report_id' links to the 'weekly_report' table.</span>"
            ],
            "metadata": {
                "azdata_cell_guid": "fe634abd-7e97-41db-aff8-5da38edc5f01"
            },
            "attachments": {}
        },
        {
            "cell_type": "code",
            "source": [
                "CREATE TABLE bed_report (\n",
                "    id SERIAL PRIMARY KEY,\n",
                "    weekly_bed_report_id INTEGER REFERENCES weekly_report(id) ON DELETE CASCADE,\n",
                "    bed_type TEXT NOT NULL,                                       -- Type of bed (e.g., adult, pediatric, ICU)\n",
                "    beds_available_7_day_avg NUMERIC(10, 2),                      -- Avg. beds available\n",
                "    beds_occupied_7_day_avg NUMERIC(10, 2),                       -- Avg. beds occupied\n",
                "    UNIQUE(weekly_bed_report_id, bed_type)                            -- Ensure unique entry per bed type per report\n",
                ");"
            ],
            "metadata": {
                "azdata_cell_guid": "1c02bbb4-2fa1-4508-8dd3-e54af60624ec",
                "language": "sql"
            },
            "outputs": [
                {
                    "output_type": "display_data",
                    "data": {
                        "text/html": "CREATE TABLE"
                    },
                    "metadata": {}
                },
                {
                    "output_type": "display_data",
                    "data": {
                        "text/html": "Total execution time: 00:00:00.041"
                    },
                    "metadata": {}
                }
            ],
            "execution_count": 27
        },
        {
            "cell_type": "markdown",
            "source": [
                "## 6\\. Covid Report"
            ],
            "metadata": {
                "azdata_cell_guid": "5632555e-daad-44ee-b581-34e1c05b1e5a"
            },
            "attachments": {}
        },
        {
            "cell_type": "markdown",
            "source": [
                "Table to store Covid-related information:\n",
                "\n",
                "This table contains data about the number of Covid patients for each weekly report. It includes the average total number of Covid patients and adult ICU Covid patients, and 'weekly\\_covid\\_id' links to the 'weekly\\_report' table."
            ],
            "metadata": {
                "azdata_cell_guid": "288e2987-f83f-422d-831a-e6bf286e1602"
            },
            "attachments": {}
        },
        {
            "cell_type": "code",
            "source": [
                "CREATE TABLE covid_report (\n",
                "    id SERIAL PRIMARY KEY,\n",
                "    weekly_covid_id INTEGER REFERENCES weekly_report(id) ON DELETE CASCADE,\n",
                "    total_covid_7_day_avg NUMERIC (10, 2),                         -- Total COVID patients\n",
                "    adult_icu_covid_7_day_avg NUMERIC (10, 2)                      -- Adult ICU COVID patients\n",
                ");"
            ],
            "metadata": {
                "azdata_cell_guid": "58c9d63c-ce1a-484c-b024-b5fea3652e6d",
                "language": "sql"
            },
            "outputs": [
                {
                    "output_type": "display_data",
                    "data": {
                        "text/html": "CREATE TABLE"
                    },
                    "metadata": {}
                },
                {
                    "output_type": "display_data",
                    "data": {
                        "text/html": "Total execution time: 00:00:00.025"
                    },
                    "metadata": {}
                }
            ],
            "execution_count": 28
        },
        {
            "cell_type": "markdown",
            "source": [
                "## Summarizing relationships:"
            ],
            "metadata": {
                "azdata_cell_guid": "75b437fc-110c-47df-a84d-75ce32b8b99b"
            },
            "attachments": {}
        },
        {
            "cell_type": "markdown",
            "source": [
                "| Table | Primary Key | Foreign Key | Relationship |\n",
                "| --- | --- | --- | --- |\n",
                "| `location` | `id` | None | Standalone table for unique locations |\n",
                "| `hospital` | `hospital_pk` | `location_id` references `location(id)` | Links each hospital to a unique location |\n",
                "| `hospital_quality` | `id` | `facility_id` references `hospital(hospital_pk)` | Links each quality rating to a hospital |\n",
                "| `weekly_report` | `id` | `hospital_weekly_id` references `hospital(hospital_pk)` | Links each weekly report to a hospital |\n",
                "| `bed_report` | `id` | `weekly_bed_report_id` references `weekly_report(id)` | Links each bed report to a specific weekly report. Each bed report entry represents details for a specific bed type within that weekly report.<br> |\n",
                "| `covid_report` | `id` | `weekly_covid_id` references `weekly_report(id)` | Links each covid report to a specific weekly report |"
            ],
            "metadata": {
                "azdata_cell_guid": "1d315a29-c7a2-4dd2-8990-24a3a53330c8"
            },
            "attachments": {}
        },
        {
            "cell_type": "markdown",
            "source": [
                "<span style=\"color: var(--vscode-foreground);\">We designed our schema this way to separate data into different tables to keep things organized and avoid duplicates:</span>\n",
                "\n",
                "<span style=\"color: var(--vscode-foreground);\">- The 'hospital' table stores each hospital's info once.</span>\n",
                "\n",
                "\\- The 'location' table holds location details that can be shared by multiple hospitals.\n",
                "\n",
                "\\- The 'hospital\\_quality' table tracks quality ratings over time without repeating hospital info.\n",
                "\n",
                "\\- The 'weekly\\_report', 'bed\\_report', and 'covid\\_report' tables store time-based patient data linked to hospitals.\n",
                "\n",
                "<span style=\"color: var(--vscode-foreground);\">By linking tables with foreign keys, we connect related data without storing the same information multiple times.</span> <span style=\"color: var(--vscode-foreground);\">This makes our database efficient and easier to maintain.</span>"
            ],
            "metadata": {
                "azdata_cell_guid": "a46afde9-7d7b-46d3-b31f-ab4aabd548a9"
            },
            "attachments": {}
        }
    ]
}