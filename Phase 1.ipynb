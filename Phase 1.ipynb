{
    "metadata": {
        "kernelspec": {
            "name": "SQL",
            "display_name": "SQL",
            "language": "sql"
        },
        "language_info": {
            "name": "sql",
            "version": ""
        }
    },
    "nbformat_minor": 2,
    "nbformat": 4,
    "cells": [
        {
            "cell_type": "code",
            "source": [
                "-- Table for hospital information (Hospital Table)\n",
                "CREATE TABLE hospital (\n",
                "    hospital_pk VARCHAR(50) PRIMARY KEY,\n",
                "    hospital_name TEXT NOT NULL,\n",
                "    location_id INTEGER REFERENCES location(id) ON DELETE SET NULL,\n",
                "    latitude NUMERIC(9, 6),\n",
                "    longitude NUMERIC(9, 6),\n",
                "    type_of_hospital TEXT,\n",
                "    ownership TEXT,\n",
                "    provides_emergency_services BOOLEAN\n",
                ");\n",
                "\n",
                "-- Table to store unique location information (Location Table)\n",
                "CREATE TABLE location (\n",
                "    id SERIAL PRIMARY KEY,\n",
                "    city TEXT,\n",
                "    state CHAR(2) NOT NULL,\n",
                "    zip_code CHAR(10),\n",
                "    fips_code VARCHAR(10)\n",
                ");\n",
                "\n",
                "-- Table to store the quality ratings of each hospital (Hopsital Quality)\n",
                "CREATE TABLE hospital_quality (\n",
                "    id SERIAL PRIMARY KEY,\n",
                "    facility_id VARCHAR(50) REFERENCES hospital(hospital_pk) ON DELETE CASCADE,\n",
                "    quality_rating INTEGER CHECK (quality_rating BETWEEN 1 AND 10), \n",
                "    rating_date DATE NOT NULL                                   \n",
                ");\n",
                "\n",
                "-- Table to store weekly data reports for each hospital (Weekly information)\n",
                "CREATE TABLE weekly_report (\n",
                "    id SERIAL PRIMARY KEY,\n",
                "    hospital_weekly_id VARCHAR(50) REFERENCES hospital(hospital_pk) ON DELETE CASCADE,\n",
                "    collection_week DATE NOT NULL,                                -- Week of data collection\n",
                "    UNIQUE(hospital_wid, collection_week)                         -- Ensure one entry per hospital per week\n",
                ");\n",
                "\n",
                "-- Table to store bed-related information (Info about beds)\n",
                "CREATE TABLE bed_report (\n",
                "    id SERIAL PRIMARY KEY,\n",
                "    weekly_bed_report_id INTEGER REFERENCES weekly_report(id) ON DELETE CASCADE,\n",
                "    bed_type TEXT NOT NULL,                                       -- Type of bed (e.g., adult, pediatric, ICU)\n",
                "    beds_available_7_day_avg NUMERIC(10, 2),                      -- Avg. beds available\n",
                "    beds_occupied_7_day_avg NUMERIC(10, 2),                       -- Avg. beds occupied\n",
                "    covid_patients_7_day_avg NUMERIC(10, 2),                      -- COVID patients in these beds\n",
                "    UNIQUE(weekly_report_id, bed_type)                            -- Ensure unique entry per bed type per report\n",
                ");\n",
                "\n",
                ""
            ],
            "metadata": {
                "azdata_cell_guid": "0c5ce309-c67f-4114-9177-df0ec13a6daa",
                "language": "sql"
            },
            "outputs": [],
            "execution_count": null
        },
        {
            "cell_type": "markdown",
            "source": [
                "Relationships:"
            ],
            "metadata": {
                "azdata_cell_guid": "75b437fc-110c-47df-a84d-75ce32b8b99b"
            },
            "attachments": {}
        },
        {
            "cell_type": "markdown",
            "source": [
                "| Table | Primary Key | Foreign Key | Relationship |\n",
                "| --- | --- | --- | --- |\n",
                "| `location` | `id` | None | Standalone table for unique locations |\n",
                "| `hospital` | `hospital_pk` | `location_id` references `location(id)` | Links each hospital to a unique location |\n",
                "| `hospital_quality` | `id` | `facility_id` references `hospital(hospital_pk)` | Links each quality rating to a hospital |\n",
                "| `weekly_report` | `id` | `hospital_wid` references `hospital(hospital_pk)` | Links each weekly report to a hospital |\n",
                "| `bed_report` | `id` | `weekly_report_id` references `weekly_report(id)` | Links each bed report to a specific weekly report. Each bed report entry represents details for a specific bed type within that weekly report. |"
            ],
            "metadata": {
                "azdata_cell_guid": "1d315a29-c7a2-4dd2-8990-24a3a53330c8"
            },
            "attachments": {}
        }
    ]
}